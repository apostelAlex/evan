{
 "cells": [
  {
   "cell_type": "markdown",
   "metadata": {},
   "source": [
    "Das kannst du als Cheatsheet nehmen. Schreibe dir am besten Dinge auf, die man vielleicht brauchen könnte und eine Google-Suche zu lange dauern würde."
   ]
  },
  {
   "cell_type": "code",
   "execution_count": null,
   "metadata": {},
   "outputs": [],
   "source": []
  },
  {
   "cell_type": "code",
   "execution_count": null,
   "metadata": {},
   "outputs": [],
   "source": []
  },
  {
   "cell_type": "markdown",
   "metadata": {},
   "source": [
    "Libraries (top notch)"
   ]
  },
  {
   "cell_type": "code",
   "execution_count": null,
   "metadata": {},
   "outputs": [],
   "source": [
    "import pandas as pd # Tabellen\n",
    "import numpy as np # Mathe\n",
    "import json # Array / Dictionary export\n",
    "import requests # Internet\n",
    "import plotly.express as px # Visuals\n",
    "import ipywidgets as wdg # IO auf Notebooks (das hier)\n",
    "import time # Zeit\n",
    "import os, sys # System \n",
    "import threading # Threads\n",
    "import torch # Facebooks KI framework pytorch\n",
    "import "
   ]
  }
 ],
 "metadata": {
  "language_info": {
   "name": "python"
  }
 },
 "nbformat": 4,
 "nbformat_minor": 2
}
