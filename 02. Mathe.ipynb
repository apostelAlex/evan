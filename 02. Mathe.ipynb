{
 "cells": [
  {
   "cell_type": "markdown",
   "metadata": {},
   "source": [
    "Heute gibt es etwas Mathe. Stell dir vor, du spielst ein Computerspiel. In diesem Spiel muss man Erfahrungspunkte sammeln, um das nächste Level zu erreichen. Allerdings weiß man nicht, wieviele Punkte man braucht, bis man diese Grenze erreicht. <br>\n",
    "\n",
    "Du frägst dich, wieviele Erfahrungspunkte du sammeln musst, um das 200. Level zu erreichen. <br>\n",
    "In einem Forum liest du, dass du folgende Formel anwenden musst: <br>\n",
    "(l/e)\\*x\\*2^(l/y)\n",
    "<br>\n",
    "Du weißt, dass x und y Ganzzahlen zwischen 1 und 100 sind. Außerdem hast du dir die benötigten EP der ersten 80 Level aufgeschrieben:"
   ]
  },
  {
   "cell_type": "code",
   "execution_count": 12,
   "metadata": {},
   "outputs": [],
   "source": [
    "import math\n",
    "ep = [30, 66, 107, 156, 213, 278, 354, 441, 542, 656, 787, 936, 1106, 1299, 1518, 1766, 2046, 2362, 2719, 3122, 3574, 4083, 4655, 5297, 6018, 6825, 7729, 8740, 9872, 11137, 12549, 14127, 15887, 17849, 20037, 22475, 25190, 28213, 31576, 35316, 39476, 44098, 49235, 54939, 61274, 68304, 76105, 84759, 94356, 104996, 116789, 129857, 144333, 160366, 178119, 197772, 219523, 243592, 270218, 299670, 332239, 368248, 408055, 452050, 500667, 554381, 613716, 679252, 751622, 831529, 919743, 1017113, 1124575, 1243157, 1373992, 1518327, 1677534, 1853121, 2046751, 2260251]"
   ]
  },
  {
   "cell_type": "markdown",
   "metadata": {},
   "source": [
    "Wie viele EP brauchst du aber jetzt für das 200. Level? <br>\n",
    "Hinweis: *l* steht für das aktuelle Level und e für e einfach. Du kannst es durch math.e accessen."
   ]
  },
  {
   "cell_type": "code",
   "execution_count": null,
   "metadata": {},
   "outputs": [],
   "source": []
  }
 ],
 "metadata": {
  "kernelspec": {
   "display_name": "base",
   "language": "python",
   "name": "python3"
  },
  "language_info": {
   "codemirror_mode": {
    "name": "ipython",
    "version": 3
   },
   "file_extension": ".py",
   "mimetype": "text/x-python",
   "name": "python",
   "nbconvert_exporter": "python",
   "pygments_lexer": "ipython3",
   "version": "3.8.13"
  }
 },
 "nbformat": 4,
 "nbformat_minor": 2
}
